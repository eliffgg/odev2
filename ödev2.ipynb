{
 "cells": [
  {
   "cell_type": "code",
   "execution_count": 3,
   "id": "ca7ab30c",
   "metadata": {},
   "outputs": [
    {
     "name": "stdout",
     "output_type": "stream",
     "text": [
      "Maaşınızı Giriniz:30000\n",
      "22500.0\n"
     ]
    }
   ],
   "source": [
    "maas = int(input(\"Maaşınızı Giriniz:\"))\n",
    "\n",
    "if maas <= 10000:\n",
    "    yenimaas = maas - maas * 0.05\n",
    "    print(yenimaas)\n",
    "    \n",
    "elif maas <= 25000:\n",
    "    yenimaas = maas - maas * 0.1\n",
    "    print (yenimaas)\n",
    "\n",
    "elif maas <= 45000:\n",
    "    yenimaas= maas - maas * 0.25\n",
    "    print(yenimaas)\n",
    "\n",
    "else:\n",
    "    yenimaas = maas - maas * 0.3\n",
    "    print(yenimaas)"
   ]
  },
  {
   "cell_type": "code",
   "execution_count": 5,
   "id": "ab719097",
   "metadata": {},
   "outputs": [
    {
     "name": "stdout",
     "output_type": "stream",
     "text": [
      "Kullanıcı Adı Giriniz: elifguvenc\n",
      "Şifre Giriniz: 123456\n",
      "Şifreniz Oluşturuldu!\n"
     ]
    }
   ],
   "source": [
    "kullaniciadi = input(\"Kullanıcı Adı Giriniz: \")\n",
    "sifre = input(\"Şifre Giriniz: \")\n",
    "\n",
    "if len(sifre) >= 6:\n",
    "    print(\"Şifreniz Oluşturuldu!\")\n",
    "    \n",
    "elif len(sifre) <= 6:\n",
    "    print(\"En az 6 haneli şifre oluşturunuz!\")"
   ]
  },
  {
   "cell_type": "code",
   "execution_count": 24,
   "id": "46852047",
   "metadata": {
    "scrolled": true
   },
   "outputs": [
    {
     "name": "stdout",
     "output_type": "stream",
     "text": [
      "Kullanıcı adı giriniz: elif\n",
      "Şifre Giriniz: 123\n",
      "Lütfen girdiniz şifre 5 haneden az 10 haneden fazla olmasın!\n",
      "Kullanıcı adı giriniz: elif\n",
      "Şifre Giriniz: 123456\n",
      "Hesabınız oluşturuldu\n"
     ]
    }
   ],
   "source": [
    "key =1 \n",
    "\n",
    "while key == 1:\n",
    "    kullaniciadi = input(\"Kullanıcı adı giriniz: \")\n",
    "    sifre = input(\"Şifre Giriniz: \")\n",
    "    \n",
    "    if (5 <= len(sifre) and len(sifre) <=10):\n",
    "        print(\"Hesabınız oluşturuldu\")\n",
    "        break\n",
    "\n",
    "    else:\n",
    "        print(\"Lütfen girdiniz şifre 5 haneden az 10 haneden fazla olmasın!\")"
   ]
  },
  {
   "cell_type": "code",
   "execution_count": 63,
   "id": "0ea32b96",
   "metadata": {},
   "outputs": [
    {
     "name": "stdout",
     "output_type": "stream",
     "text": [
      "İsim Giriniz: elif\n",
      "Şifre giriniz: 1234\n",
      "yanlış şifre girildi. Kalan hak: 2\n",
      "İsim Giriniz: elif\n",
      "Şifre giriniz: 12345\n",
      "yanlış şifre girildi. Kalan hak: 1\n",
      "İsim Giriniz: elif\n",
      "Şifre giriniz: 1234567\n",
      "giriş yapıldı.\n"
     ]
    }
   ],
   "source": [
    "key = 1\n",
    "sifre = 1234567\n",
    "while 1 <= key and key <=3 :\n",
    "    isim = input(\"İsim Giriniz: \")\n",
    "    girilensifre = int(input(\"Şifre giriniz: \"))\n",
    "    \n",
    "    if girilensifre == sifre:\n",
    "        print(\"giriş yapıldı.\")\n",
    "        break\n",
    "    \n",
    "    elif girilensifre != sifre:\n",
    "        print(\"yanlış şifre girildi. Kalan hak:\", 3 - key)\n",
    "        key = key + 1\n",
    "        continue\n",
    "        \n",
    "    elif key >= 4:\n",
    "        break "
   ]
  }
 ],
 "metadata": {
  "kernelspec": {
   "display_name": "Python 3 (ipykernel)",
   "language": "python",
   "name": "python3"
  },
  "language_info": {
   "codemirror_mode": {
    "name": "ipython",
    "version": 3
   },
   "file_extension": ".py",
   "mimetype": "text/x-python",
   "name": "python",
   "nbconvert_exporter": "python",
   "pygments_lexer": "ipython3",
   "version": "3.11.7"
  }
 },
 "nbformat": 4,
 "nbformat_minor": 5
}
